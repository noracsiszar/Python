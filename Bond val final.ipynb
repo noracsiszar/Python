{
 "cells": [
  {
   "cell_type": "code",
   "execution_count": 2,
   "id": "f5e3aa8b",
   "metadata": {},
   "outputs": [
    {
     "name": "stdout",
     "output_type": "stream",
     "text": [
      "        Date  Yield   Open   High    Low Change %\n",
      "0 2024-05-10  3.427  3.438  3.471  3.374    0.91%\n",
      "1 2024-05-09  3.396  3.411  3.474  3.383   -0.22%\n",
      "2 2024-05-08  3.404  3.452  3.460  3.379   -1.25%\n",
      "3 2024-05-07  3.447  3.480  3.486  3.372   -0.20%\n",
      "4 2024-05-06  3.454  3.486  3.500  3.430   -0.60%\n",
      "Date        datetime64[ns]\n",
      "Yield              float64\n",
      "Open               float64\n",
      "High               float64\n",
      "Low                float64\n",
      "Change %            object\n",
      "dtype: object\n"
     ]
    },
    {
     "data": {
      "image/png": "[encoded data removed]",
      "text/plain": [
       "<Figure size 432x288 with 1 Axes>"
      ]
     },
     "metadata": {
      "needs_background": "light"
     },
     "output_type": "display_data"
    }
   ],
   "source": [
    "#importing libraries\n",
    "import numpy as np\n",
    "import numpy_financial as npf\n",
    "import pandas as pd\n",
    "import matplotlib.pyplot as plt\n",
    "\n",
    "#import 1Yr Austrian Gov bonds data to get an idea how to 1yr term yield \n",
    "#changed in the Austrian market over time\n",
    "\n",
    "# Path to the uploaded CSV file\n",
    "file_path = 'Austria 1-Year Bond Yield Historical Data.csv'\n",
    "\n",
    "df = pd.read_csv(file_path, parse_dates=['Date'])\n",
    "\n",
    "# Display the first few rows of the DataFrame to confirm date parsing\n",
    "print(df.head())\n",
    "\n",
    "# Display the data types to confirm the 'Date' column is now datetime type\n",
    "print(df.dtypes)\n",
    "\n",
    "# Ensure the Date column is set as the index \n",
    "df_with_dates = df.set_index('Date', inplace=True)\n",
    "#Plot a timeseries chart\n",
    "plt.plot(df['Yield'], color='blue')\n",
    "plt.title(\"Austrian Government bond yields for 1Yr maturity\")\n",
    "plt.show()"
   ]
  },
  {
   "cell_type": "code",
   "execution_count": 12,
   "id": "6073db26",
   "metadata": {},
   "outputs": [
    {
     "name": "stdout",
     "output_type": "stream",
     "text": [
      "           ISIN               Issuer coupon_rate Payment  Value_date  \\\n",
      "0  AT0000A2ZQB7  Hypo Wohnbaubank AG        2.75  annual  2022-08-04   \n",
      "1  AT0000A38JE8  Hypo Wohnbaubank AG         3.9  annual  2023-11-28   \n",
      "2  AT0000A3AZV7  Hypo Wohnbaubank AG        3.25  annual  2024-03-07   \n",
      "3  AT0000A3AZW5  Hypo Wohnbaubank AG         3.3  annual  2024-03-07   \n",
      "\n",
      "  Maturity_date Erstausgabekurs Current_price      Next_c  \\\n",
      "0    2034-08-04          101.55         92.95  2024-08-04   \n",
      "1    2035-03-28             103         105.4  2024-11-28   \n",
      "2    2036-03-07           99.80         99.80  2025-03-07   \n",
      "3    2036-10-07          100.70         92.95  2025-03-07   \n",
      "\n",
      "  remaining_c_payments AT govt yield  \n",
      "0                   10         2.998  \n",
      "1                   10         2.998  \n",
      "2                   11         3.000  \n",
      "3                   12         3.173  \n"
     ]
    }
   ],
   "source": [
    "# Create a list of dictionaries for the bonds below as following, where each dictionary \n",
    "#represents a bond and its main attributes\n",
    "bonds_data = [\n",
    "    {\n",
    "        \"ISIN\": \"AT0000A2ZQB7\",\n",
    "        \"Issuer\": \"Hypo Wohnbaubank AG\",\n",
    "        \"coupon_rate\": \"2.75\",\n",
    "        \"Payment\": \"annual\",\n",
    "        \"Value_date\": \"2022-08-04\",\n",
    "        \"Maturity_date\": \"2034-08-04\",\n",
    "        \"Erstausgabekurs\": \"101.55\",\n",
    "        \"Current_price\": \"92.95\",\n",
    "        \"Next_c\": \"2024-08-04\",\n",
    "        \"remaining_c_payments\": \"10\",\n",
    "        \"AT govt yield\": \"2.998\"\n",
    "        \n",
    "    },\n",
    "    {\n",
    "        \"ISIN\": \"AT0000A38JE8\",\n",
    "        \"Issuer\": \"Hypo Wohnbaubank AG\",\n",
    "        \"coupon_rate\": \"3.9\",\n",
    "        \"Payment\": \"annual\",\n",
    "        \"Value_date\": \"2023-11-28\",\n",
    "        \"Maturity_date\": \"2035-03-28\",\n",
    "        \"Erstausgabekurs\": \"103\",\n",
    "        \"Current_price\": \"105.4\",\n",
    "        \"Next_c\": \"2024-11-28\",\n",
    "        \"remaining_c_payments\": \"10\",\n",
    "        \"AT govt yield\": \"2.998\"\n",
    "       \n",
    "    },\n",
    "    {\n",
    "        \"ISIN\": \"AT0000A3AZV7\",\n",
    "        \"Issuer\": \"Hypo Wohnbaubank AG\",\n",
    "        \"coupon_rate\": \"3.25\",\n",
    "        \"Payment\": \"annual\",\n",
    "        \"Value_date\": \"2024-03-07\",\n",
    "        \"Maturity_date\": \"2036-03-07\",\n",
    "        \"Erstausgabekurs\": \"99.80\",\n",
    "        \"Current_price\": \"99.80\",\n",
    "        \"Next_c\": \"2025-03-07\",\n",
    "        \"remaining_c_payments\": \"11\",\n",
    "        \"AT govt yield\": \"3.000\"\n",
    "      \n",
    "    },\n",
    "    {\n",
    "        \"ISIN\": \"AT0000A3AZW5\",\n",
    "        \"Issuer\": \"Hypo Wohnbaubank AG\",\n",
    "        \"coupon_rate\": \"3.3\",\n",
    "        \"Payment\": \"annual\",\n",
    "        \"Value_date\": \"2024-03-07\",  # Corrected: added comma here\n",
    "        \"Maturity_date\": \"2036-10-07\",\n",
    "        \"Erstausgabekurs\": \"100.70\",\n",
    "        \"Current_price\": \"92.95\",\n",
    "        \"Next_c\": \"2025-03-07\",\n",
    "        \"remaining_c_payments\": \"12\",\n",
    "        \"AT govt yield\": \"3.173\"\n",
    "      \n",
    "    }\n",
    "]\n",
    "\n",
    "# Convert the list of dictionaries into a DataFrame\n",
    "bonds_df = pd.DataFrame(bonds_data)\n",
    "\n",
    "# Display the DataFrame\n",
    "print(bonds_df)"
   ]
  },
  {
   "cell_type": "code",
   "execution_count": 7,
   "id": "1cc32533",
   "metadata": {},
   "outputs": [
    {
     "name": "stdout",
     "output_type": "stream",
     "text": [
      "         Term  Interest Rate\n",
      "0    3 months          3.805\n",
      "1    6 months          3.727\n",
      "2      1 year          3.480\n",
      "3     2 years          3.144\n",
      "4     3 years          2.945\n",
      "5     4 years          2.872\n",
      "6     5 years          2.866\n",
      "7     6 years          2.864\n",
      "8     7 years          2.888\n",
      "9     8 years          2.931\n",
      "10    9 years          2.963\n",
      "11   10 years          2.998\n",
      "12   15 years          3.173\n",
      "13   20 years          3.198\n",
      "14   25 years          3.190\n",
      "15   30 years          3.127\n",
      "16   40 years          3.216\n",
      "17   50 years          2.899\n",
      "18   70 years          2.967\n",
      "19   95 years          2.930\n",
      "20  100 years          2.317\n"
     ]
    },
    {
     "data": {
      "text/plain": [
       "([0, 1, 2, 3, 4, 5, 6, 7, 8, 9, 10, 11, 12, 13, 14, 15, 16, 17, 18, 19, 20],\n",
       " [Text(0, 0, '3 months'),\n",
       "  Text(1, 0, '6 months'),\n",
       "  Text(2, 0, '1 year'),\n",
       "  Text(3, 0, '2 years'),\n",
       "  Text(4, 0, '3 years'),\n",
       "  Text(5, 0, '4 years'),\n",
       "  Text(6, 0, '5 years'),\n",
       "  Text(7, 0, '6 years'),\n",
       "  Text(8, 0, '7 years'),\n",
       "  Text(9, 0, '8 years'),\n",
       "  Text(10, 0, '9 years'),\n",
       "  Text(11, 0, '10 years'),\n",
       "  Text(12, 0, '15 years'),\n",
       "  Text(13, 0, '20 years'),\n",
       "  Text(14, 0, '25 years'),\n",
       "  Text(15, 0, '30 years'),\n",
       "  Text(16, 0, '40 years'),\n",
       "  Text(17, 0, '50 years'),\n",
       "  Text(18, 0, '70 years'),\n",
       "  Text(19, 0, '95 years'),\n",
       "  Text(20, 0, '100 years')])"
      ]
     },
     "execution_count": 7,
     "metadata": {},
     "output_type": "execute_result"
    },
    {
     "data": {
      "image/png": "[encoded data removed]",
      "text/plain": [
       "<Figure size 432x288 with 1 Axes>"
      ]
     },
     "metadata": {
      "needs_background": "light"
     },
     "output_type": "display_data"
    }
   ],
   "source": [
    "#display term structure of current Austrian government bonds, \n",
    "#will be used for price calculation of the bonds entered before\n",
    "\n",
    "austrian_bonds_data = {\n",
    "    \"3 months\": 3.805,\n",
    "    \"6 months\": 3.727,\n",
    "    \"1 year\": 3.480,\n",
    "    \"2 years\": 3.144,\n",
    "    \"3 years\": 2.945,\n",
    "    \"4 years\": 2.872,\n",
    "    \"5 years\": 2.866,\n",
    "    \"6 years\": 2.864,\n",
    "    \"7 years\": 2.888,\n",
    "    \"8 years\": 2.931,\n",
    "    \"9 years\": 2.963,\n",
    "    \"10 years\": 2.998,\n",
    "    \"15 years\": 3.173,\n",
    "    \"20 years\": 3.198,\n",
    "    \"25 years\": 3.190,\n",
    "    \"30 years\": 3.127,\n",
    "    \"40 years\": 3.216,\n",
    "    \"50 years\": 2.899,\n",
    "    \"70 years\": 2.967,\n",
    "    \"95 years\": 2.930,\n",
    "    \"100 years\": 2.317\n",
    "}\n",
    "df_govies = pd.DataFrame(list(austrian_bonds_data.items()), columns=['Term', 'Interest Rate'])\n",
    "print(df_govies)\n",
    "\n",
    "#plot the data to visualize\n",
    "plt.plot(df_govies['Term'], df_govies['Interest Rate'])\n",
    "plt.title(\"Austrian Government bond yields per maturity\")\n",
    "plt.xlabel(\"Term\")\n",
    "plt.ylabel(\"Interest Rate (%)\")\n",
    "plt.xticks(rotation=45)"
   ]
  },
  {
   "cell_type": "code",
   "execution_count": 22,
   "id": "97585344",
   "metadata": {},
   "outputs": [
    {
     "name": "stdout",
     "output_type": "stream",
     "text": [
      "           ISIN               Issuer   coupon_rate Payment Value_date  \\\n",
      "0  AT0000A2ZQB7  Hypo Wohnbaubank AG  2.750000e-08  annual 2022-08-04   \n",
      "1  AT0000A38JE8  Hypo Wohnbaubank AG  3.900000e-08  annual 2023-11-28   \n",
      "2  AT0000A3AZV7  Hypo Wohnbaubank AG  3.250000e-08  annual 2024-03-07   \n",
      "3  AT0000A3AZW5  Hypo Wohnbaubank AG  3.300000e-08  annual 2024-03-07   \n",
      "\n",
      "  Maturity_date  Erstausgabekurs  Current_price     Next_c  \\\n",
      "0    2034-08-04           101.55          92.95 2024-08-04   \n",
      "1    2035-03-28           103.00         105.40 2024-11-28   \n",
      "2    2036-03-07            99.80          99.80 2025-03-07   \n",
      "3    2036-10-07           100.70          92.95 2025-03-07   \n",
      "\n",
      "   remaining_c_payments  ...  frequency    periods  coupon_payment       ytm  \\\n",
      "0                    10  ...          1  10.232877        0.000003  0.717008   \n",
      "1                    10  ...          1  10.879452        0.000004 -0.482240   \n",
      "2                    11  ...          1  11.824658        0.000003  0.016935   \n",
      "3                    12  ...          1  12.410959        0.000003  0.590806   \n",
      "\n",
      "     int_up  int_down      price   price_up  price_down   duration  \n",
      "0  0.010003 -0.009997  99.997002  90.526009  110.569387  10.021990  \n",
      "1  0.010003 -0.009997  99.997002  90.526009  110.569388  10.021990  \n",
      "2  0.010003 -0.009997  99.996700  89.629444  111.685909  11.028597  \n",
      "3  0.010003 -0.009997  99.996193  88.741577  112.813471  12.036405  \n",
      "\n",
      "[4 rows x 25 columns]\n"
     ]
    }
   ],
   "source": [
    "#importing datetime for converting maturity date and such into date fomat\n",
    "import pandas as pd\n",
    "from datetime import datetime\n",
    "# Convert columns to numeric\n",
    "bonds_df['coupon_rate'] = (pd.to_numeric(bonds_df['coupon_rate'], errors='coerce'))\n",
    "bonds_df['Erstausgabekurs'] = pd.to_numeric(bonds_df['Erstausgabekurs'], errors='coerce')\n",
    "bonds_df['Current_price'] = pd.to_numeric(bonds_df['Current_price'], errors='coerce')\n",
    "bonds_df['AT govt yield'] = (pd.to_numeric(bonds_df['AT govt yield'], errors='coerce'))\n",
    "bonds_df['remaining_c_payments'] = pd.to_numeric(bonds_df['remaining_c_payments'])\n",
    "# Convert 'Value_date' and 'Maturity_date' to datetime objects\n",
    "bonds_df['Value_date'] = pd.to_datetime(bonds_df['Value_date'])\n",
    "bonds_df['Maturity_date'] = pd.to_datetime(bonds_df['Maturity_date'])\n",
    "bonds_df['Next_c'] = pd.to_datetime(bonds_df['Next_c'])\n",
    "\n",
    "# Calculate days to next coupon\n",
    "bonds_df['days_to_next_coupon'] = (bonds_df['Next_c'] - pd.Timestamp.today()).dt.days\n",
    "\n",
    "# Calculate days to maturity\n",
    "bonds_df['days_to_maturity'] = (bonds_df['Maturity_date'] - pd.Timestamp.today()).dt.days\n",
    "\n",
    "# Convert days to years\n",
    "bonds_df['years_to_next_coupon'] = bonds_df['days_to_next_coupon'] / 365\n",
    "bonds_df['years_to_maturity'] = bonds_df['days_to_maturity'] / 365\n",
    "\n",
    "# Calculate number of periods until maturity\n",
    "bonds_df['frequency'] = bonds_df['Payment'].apply(lambda x: 12 if x == 'monthly' else 1)  # Assuming annual payments\n",
    "bonds_df['periods'] = bonds_df['years_to_maturity'] * bonds_df['frequency']\n",
    "\n",
    "# Calculate coupon payment\n",
    "bonds_df['coupon_payment'] = bonds_df['coupon_rate'] * 100  # Assuming face value of 100\n",
    "\n",
    "# Estimate YTM\n",
    "bonds_df['ytm'] = npf.rate(nper=bonds_df['periods'], pmt=bonds_df['coupon_payment'], pv=-bonds_df['Current_price'], fv=100) * bonds_df['frequency'] * 100\n",
    "\n",
    "# Print or use bonds_df to see the calculated values\n",
    "print(bonds_df)"
   ]
  },
  {
   "cell_type": "code",
   "execution_count": 23,
   "id": "73c50a49",
   "metadata": {},
   "outputs": [
    {
     "name": "stdout",
     "output_type": "stream",
     "text": [
      "           ISIN               Issuer   coupon_rate Payment Value_date  \\\n",
      "0  AT0000A2ZQB7  Hypo Wohnbaubank AG  2.750000e-08  annual 2022-08-04   \n",
      "1  AT0000A38JE8  Hypo Wohnbaubank AG  3.900000e-08  annual 2023-11-28   \n",
      "2  AT0000A3AZV7  Hypo Wohnbaubank AG  3.250000e-08  annual 2024-03-07   \n",
      "3  AT0000A3AZW5  Hypo Wohnbaubank AG  3.300000e-08  annual 2024-03-07   \n",
      "\n",
      "  Maturity_date  Erstausgabekurs  Current_price     Next_c  \\\n",
      "0    2034-08-04           101.55          92.95 2024-08-04   \n",
      "1    2035-03-28           103.00         105.40 2024-11-28   \n",
      "2    2036-03-07            99.80          99.80 2025-03-07   \n",
      "3    2036-10-07           100.70          92.95 2025-03-07   \n",
      "\n",
      "   remaining_c_payments  ...  frequency    periods  coupon_payment       ytm  \\\n",
      "0                    10  ...          1  10.232877        0.000003  0.717008   \n",
      "1                    10  ...          1  10.879452        0.000004 -0.482240   \n",
      "2                    11  ...          1  11.824658        0.000003  0.016935   \n",
      "3                    12  ...          1  12.410959        0.000003  0.590806   \n",
      "\n",
      "     int_up  int_down      price   price_up  price_down   duration  \n",
      "0  0.010003 -0.009997  99.997002  90.526009  110.569387  10.021990  \n",
      "1  0.010003 -0.009997  99.997002  90.526009  110.569388  10.021990  \n",
      "2  0.010003 -0.009997  99.996700  89.629444  111.685909  11.028597  \n",
      "3  0.010003 -0.009997  99.996193  88.741577  112.813471  12.036405  \n",
      "\n",
      "[4 rows x 25 columns]\n"
     ]
    }
   ],
   "source": [
    "# Duration\n",
    "# price = -npf.pv(rate=gov yield, nper=remaining payments, pmt=coupon, fv=100)\n",
    "# price_up = -npf.pv(rate=gov yield+1, nper=remaining payments, pmt=coupon, fv=100)\n",
    "# price_down = -npf.pv(rate=gov yield-1, nper=remaining payments, pmt=coupon, fv=100)\n",
    "# duration = (price_down - price_up) / (2 * price * 0.01)\n",
    "\n",
    "# Calculate the price\n",
    "bonds_df['int_up'] = bonds_df['AT govt yield'] + 0.01 \n",
    "bonds_df['int_down'] = bonds_df['AT govt yield'] - 0.01 \n",
    "bonds_df['price'] = -npf.pv(rate=bonds_df['AT govt yield'], nper=bonds_df['remaining_c_payments'], pmt=bonds_df['coupon_rate'], fv=100)\n",
    "bonds_df['price_up'] = -npf.pv(rate=bonds_df['int_up'], nper=bonds_df['remaining_c_payments'], pmt=bonds_df['coupon_rate'], fv=100)\n",
    "bonds_df['price_down'] = -npf.pv(rate=bonds_df['int_down'], nper=bonds_df['remaining_c_payments'], pmt=bonds_df['coupon_rate'], fv=100)\n",
    "bonds_df['duration'] = (bonds_df['price_down'] - bonds_df['price_up']) / (2 * bonds_df['price'] * 0.01)\n",
    "\n",
    "# Print or use bonds_df to see the calculated values\n",
    "print(bonds_df)"
   ]
  },
  {
   "cell_type": "code",
   "execution_count": 24,
   "id": "b764d52d",
   "metadata": {},
   "outputs": [
    {
     "data": {
      "image/png": "[encoded data removed]",
      "text/plain": [
       "<Figure size 432x288 with 1 Axes>"
      ]
     },
     "metadata": {
      "needs_background": "light"
     },
     "output_type": "display_data"
    }
   ],
   "source": [
    "#Plotting maturity in years remaining against duration\n",
    "plt.plot(bonds_df['years_to_maturity'], bonds_df['duration'])\n",
    "plt.xlabel('Maturity (Years)')\n",
    "plt.ylabel('Duration (%)')\n",
    "plt.title(\"Effect of Varying Maturity On Bond Duration\")\n",
    "plt.show()"
   ]
  },
  {
   "cell_type": "code",
   "execution_count": 25,
   "id": "49432aee",
   "metadata": {},
   "outputs": [
    {
     "name": "stdout",
     "output_type": "stream",
     "text": [
      "           ISIN               Issuer   coupon_rate Payment Value_date  \\\n",
      "0  AT0000A2ZQB7  Hypo Wohnbaubank AG  2.750000e-08  annual 2022-08-04   \n",
      "1  AT0000A38JE8  Hypo Wohnbaubank AG  3.900000e-08  annual 2023-11-28   \n",
      "2  AT0000A3AZV7  Hypo Wohnbaubank AG  3.250000e-08  annual 2024-03-07   \n",
      "3  AT0000A3AZW5  Hypo Wohnbaubank AG  3.300000e-08  annual 2024-03-07   \n",
      "\n",
      "  Maturity_date  Erstausgabekurs  Current_price     Next_c  \\\n",
      "0    2034-08-04           101.55          92.95 2024-08-04   \n",
      "1    2035-03-28           103.00         105.40 2024-11-28   \n",
      "2    2036-03-07            99.80          99.80 2025-03-07   \n",
      "3    2036-10-07           100.70          92.95 2025-03-07   \n",
      "\n",
      "   remaining_c_payments  ...  coupon_payment       ytm    int_up  int_down  \\\n",
      "0                    10  ...        0.000003  0.717008  0.010003 -0.009997   \n",
      "1                    10  ...        0.000004 -0.482240  0.010003 -0.009997   \n",
      "2                    11  ...        0.000003  0.016935  0.010003 -0.009997   \n",
      "3                    12  ...        0.000003  0.590806  0.010003 -0.009997   \n",
      "\n",
      "       price   price_up  price_down   duration  dollar_duration      DV01  \n",
      "0  99.997002  90.526009  110.569387  10.021990         9.315440  0.093154  \n",
      "1  99.997002  90.526009  110.569388  10.021990        10.563177  0.105632  \n",
      "2  99.996700  89.629444  111.685909  11.028597        11.006540  0.110065  \n",
      "3  99.996193  88.741577  112.813471  12.036405        11.187839  0.111878  \n",
      "\n",
      "[4 rows x 27 columns]\n"
     ]
    }
   ],
   "source": [
    "#Dollar Duration = Duration × Bond Price × 0.01\n",
    "#DV01 = dollar duration/100\n",
    "bonds_df['dollar_duration'] = bonds_df['duration'] * bonds_df['Current_price'] * 0.01\n",
    "bonds_df['DV01'] = bonds_df['dollar_duration'] /100\n",
    "print(bonds_df)"
   ]
  },
  {
   "cell_type": "code",
   "execution_count": 26,
   "id": "6dbb13a4",
   "metadata": {},
   "outputs": [
    {
     "name": "stdout",
     "output_type": "stream",
     "text": [
      "           ISIN               Issuer   coupon_rate Payment Value_date  \\\n",
      "0  AT0000A2ZQB7  Hypo Wohnbaubank AG  2.750000e-08  annual 2022-08-04   \n",
      "1  AT0000A38JE8  Hypo Wohnbaubank AG  3.900000e-08  annual 2023-11-28   \n",
      "2  AT0000A3AZV7  Hypo Wohnbaubank AG  3.250000e-08  annual 2024-03-07   \n",
      "3  AT0000A3AZW5  Hypo Wohnbaubank AG  3.300000e-08  annual 2024-03-07   \n",
      "\n",
      "  Maturity_date  Erstausgabekurs  Current_price     Next_c  \\\n",
      "0    2034-08-04           101.55          92.95 2024-08-04   \n",
      "1    2035-03-28           103.00         105.40 2024-11-28   \n",
      "2    2036-03-07            99.80          99.80 2025-03-07   \n",
      "3    2036-10-07           100.70          92.95 2025-03-07   \n",
      "\n",
      "   remaining_c_payments  ...       ytm    int_up  int_down      price  \\\n",
      "0                    10  ...  0.717008  0.010003 -0.009997  99.997002   \n",
      "1                    10  ... -0.482240  0.010003 -0.009997  99.997002   \n",
      "2                    11  ...  0.016935  0.010003 -0.009997  99.996700   \n",
      "3                    12  ...  0.590806  0.010003 -0.009997  99.996193   \n",
      "\n",
      "    price_up  price_down   duration  dollar_duration      DV01  hedge_quantity  \n",
      "0  90.526009  110.569387  10.021990         9.315440  0.093154        107349.0  \n",
      "1  90.526009  110.569388  10.021990        10.563177  0.105632         94668.0  \n",
      "2  89.629444  111.685909  11.028597        11.006540  0.110065         90855.0  \n",
      "3  88.741577  112.813471  12.036405        11.187839  0.111878         89383.0  \n",
      "\n",
      "[4 rows x 28 columns]\n"
     ]
    }
   ],
   "source": [
    "# Hedging DV01 example\n",
    "#Your existing portfolio has a DV01 of EUR 10,000 -> number of bonds to sell to hedge EUR 10,000 DV01\n",
    "bonds_df['hedge_quantity'] = round(10000 / bonds_df['DV01'])\n",
    "print(bonds_df)"
   ]
  },
  {
   "cell_type": "code",
   "execution_count": 27,
   "id": "6917ba80",
   "metadata": {},
   "outputs": [
    {
     "name": "stdout",
     "output_type": "stream",
     "text": [
      "           ISIN               Issuer   coupon_rate Payment Value_date  \\\n",
      "0  AT0000A2ZQB7  Hypo Wohnbaubank AG  2.750000e-08  annual 2022-08-04   \n",
      "1  AT0000A38JE8  Hypo Wohnbaubank AG  3.900000e-08  annual 2023-11-28   \n",
      "2  AT0000A3AZV7  Hypo Wohnbaubank AG  3.250000e-08  annual 2024-03-07   \n",
      "3  AT0000A3AZW5  Hypo Wohnbaubank AG  3.300000e-08  annual 2024-03-07   \n",
      "\n",
      "  Maturity_date  Erstausgabekurs  Current_price     Next_c  \\\n",
      "0    2034-08-04           101.55          92.95 2024-08-04   \n",
      "1    2035-03-28           103.00         105.40 2024-11-28   \n",
      "2    2036-03-07            99.80          99.80 2025-03-07   \n",
      "3    2036-10-07           100.70          92.95 2025-03-07   \n",
      "\n",
      "   remaining_c_payments  ...    int_up  int_down      price   price_up  \\\n",
      "0                    10  ...  0.010003 -0.009997  99.997002  90.526009   \n",
      "1                    10  ...  0.010003 -0.009997  99.997002  90.526009   \n",
      "2                    11  ...  0.010003 -0.009997  99.996700  89.629444   \n",
      "3                    12  ...  0.010003 -0.009997  99.996193  88.741577   \n",
      "\n",
      "   price_down   duration  dollar_duration      DV01  hedge_quantity  \\\n",
      "0  110.569387  10.021990         9.315440  0.093154        107349.0   \n",
      "1  110.569388  10.021990        10.563177  0.105632         94668.0   \n",
      "2  111.685909  11.028597        11.006540  0.110065         90855.0   \n",
      "3  112.813471  12.036405        11.187839  0.111878         89383.0   \n",
      "\n",
      "    Convexity  \n",
      "0  110.142439  \n",
      "1  110.142439  \n",
      "2  132.199566  \n",
      "3  156.272254  \n",
      "\n",
      "[4 rows x 29 columns]\n"
     ]
    }
   ],
   "source": [
    "#What is convexity?\n",
    "#Measures the curvature of bond prices\n",
    "#Used to improve bond price prediction and risk measurement\n",
    "#Higher convexity = more curved price/yield relationship\n",
    "bonds_df['Convexity'] =  (bonds_df['price_down'] + bonds_df['price_up'] - 2 * bonds_df['price']) / (bonds_df['price'] * 0.01 ** 2)\n",
    "print(bonds_df)"
   ]
  },
  {
   "cell_type": "code",
   "execution_count": null,
   "id": "a05c43ba",
   "metadata": {},
   "outputs": [],
   "source": []
  }
 ],
 "metadata": {
  "kernelspec": {
   "display_name": "Python 3",
   "language": "python",
   "name": "python3"
  },
  "language_info": {
   "codemirror_mode": {
    "name": "ipython",
    "version": 3
   },
   "file_extension": ".py",
   "mimetype": "text/x-python",
   "name": "python",
   "nbconvert_exporter": "python",
   "pygments_lexer": "ipython3",
   "version": "3.8.8"
  }
 },
 "nbformat": 4,
 "nbformat_minor": 5
}
