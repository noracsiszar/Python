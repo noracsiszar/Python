{
 "cells": [
  {
   "cell_type": "code",
   "execution_count": 43,
   "id": "64804861",
   "metadata": {},
   "outputs": [
    {
     "name": "stdout",
     "output_type": "stream",
     "text": [
      "                  Open        High         Low       Close    Volume   Returns\n",
      "Date                                                                          \n",
      "2024-00-26  169.880005  171.339996  169.179993  169.300003  44838400 -0.003473\n",
      "2024-00-29  173.369995  176.029999  173.100006  173.500000  68169400  0.024808\n",
      "2024-00-30  173.330002  174.990005  170.000000  170.330002  65934800 -0.018271\n",
      "2024-00-01  169.580002  172.710007  169.110001  169.300003  50281200 -0.006047\n",
      "2024-00-02  172.419998  172.779999  170.889999  172.649994  38929833  0.019787\n"
     ]
    },
    {
     "name": "stderr",
     "output_type": "stream",
     "text": [
      "<ipython-input-43-ba1221381159>:25: SettingWithCopyWarning: \n",
      "A value is trying to be set on a copy of a slice from a DataFrame.\n",
      "Try using .loc[row_indexer,col_indexer] = value instead\n",
      "\n",
      "See the caveats in the documentation: https://pandas.pydata.org/pandas-docs/stable/user_guide/indexing.html#returning-a-view-versus-a-copy\n",
      "  daily_prices_aapl.loc[:, \"Returns\"] = daily_prices_aapl[\"Close\"].pct_change()\n"
     ]
    }
   ],
   "source": [
    "#importing data and calculating returns\n",
    "#Discrete returns are calculated as the change in price as a percentage of the previous period's price\n",
    "#Log returns are calculated as the difference between the log of two prices \n",
    "#Logreturns aggregate across time,while discrete returns aggregate across assets\n",
    "import yfinance as yf\n",
    "import pandas as pd\n",
    "import numpy as np\n",
    "import matplotlib.pyplot as plt #importing for plots\n",
    "from scipy.stats import skew #importing for skewness\n",
    "from scipy.stats import kurtosis #importing for kurtosis\n",
    "from scipy import stats #testing null hypothesis if data is normally distributed\n",
    "\n",
    "# Fetch historical data\n",
    "ticker_symbol_1 = 'AAPL'\n",
    "appl = yf.Ticker(ticker_symbol_1)\n",
    "historical_data_appl = appl.history(period=\"2y\")\n",
    "\n",
    "# Extract relevant columns\n",
    "daily_prices_aapl = historical_data_appl[['Open', 'High', 'Low', 'Close', 'Volume']]\n",
    "\n",
    "# Convert the index to a string format (YYYY-MM-DD)\n",
    "daily_prices_aapl.index = daily_prices_aapl.index.strftime('%Y-%M-%d')\n",
    "\n",
    "# Add daily returns\n",
    "daily_prices_aapl.loc[:, \"Returns\"] = daily_prices_aapl[\"Close\"].pct_change()\n",
    "\n",
    "# Display the transformed data frame\n",
    "print(daily_prices_aapl.tail())"
   ]
  },
  {
   "cell_type": "code",
   "execution_count": 24,
   "id": "5b95cd2c",
   "metadata": {},
   "outputs": [
    {
     "data": {
      "image/png": "[encoded data removed]",
      "text/plain": [
       "<Figure size 432x288 with 1 Axes>"
      ]
     },
     "metadata": {
      "needs_background": "light"
     },
     "output_type": "display_data"
    }
   ],
   "source": [
    "#visualizing return distributions\n",
    "plt.hist(daily_prices_aapl[\"Returns\"].dropna(), bins=100, density=False)\n",
    "plt.show()"
   ]
  },
  {
   "cell_type": "code",
   "execution_count": 47,
   "id": "19bfe03a",
   "metadata": {},
   "outputs": [
    {
     "name": "stdout",
     "output_type": "stream",
     "text": [
      "Mean: 0.00035066021357493804\n",
      "Mean annulized: 0.0923713505893573\n",
      "Standard deviation: 0.01739848828830159\n",
      "Variance: 0.00030270739471816764\n",
      "Annulized volatility: 0.27619243919589515\n",
      "Skewness: 0.08565214066945068\n",
      "Kurtosis: 2.4325332837358538\n"
     ]
    }
   ],
   "source": [
    "#calculating mean, var, kurtosis and skewness of the distribution\n",
    "mean_return = np.mean(daily_prices_aapl[\"Returns\"])\n",
    "#annulized mean\n",
    "annulized_mean = ((1+np.mean(daily_prices_aapl[\"Returns\"]))**252)-1\n",
    "#std dev\n",
    "std_deviation = np.std(daily_prices_aapl[\"Returns\"])\n",
    "#variance\n",
    "var_return = np.std(daily_prices_aapl[\"Returns\"])**2\n",
    "#annulized volatility\n",
    "annulized_vol = np.std(daily_prices_aapl[\"Returns\"]) * np.sqrt(252)\n",
    "#skewness\n",
    "skew_1 = skew(daily_prices_aapl[\"Returns\"].dropna())\n",
    "#kurtosis\n",
    "kurt_1 = kurtosis(daily_prices_aapl[\"Returns\"].dropna())\n",
    "\n",
    "#printing out \n",
    "print(f\"Mean: {mean_return}\")\n",
    "print(f\"Mean annulized: {annulized_mean}\")\n",
    "print(f\"Standard deviation: {std_deviation}\")\n",
    "print(f\"Variance: {var_return}\")\n",
    "print(f\"Annulized volatility: {annulized_vol}\")\n",
    "print(f\"Skewness: {skew_1}\")\n",
    "print(f\"Kurtosis: {kurt_1}\")\n"
   ]
  },
  {
   "cell_type": "code",
   "execution_count": 46,
   "id": "1a04893f",
   "metadata": {},
   "outputs": [
    {
     "name": "stdout",
     "output_type": "stream",
     "text": [
      "Null hypothesis of normality is rejected, not a normal distribution.\n"
     ]
    }
   ],
   "source": [
    "#is the data normally distributed\n",
    "\n",
    "p_value = stats.shapiro(daily_prices_aapl[\"Returns\"].dropna())[1]\n",
    "if p_value <= 0.05:\n",
    "    print(\"Null hypothesis of normality is rejected, not a normal distribution.\")\n",
    "else:\n",
    "    print(\"Null hypothesis of normality is accepted.\")"
   ]
  },
  {
   "cell_type": "code",
   "execution_count": null,
   "id": "d98203c1",
   "metadata": {},
   "outputs": [],
   "source": []
  }
 ],
 "metadata": {
  "kernelspec": {
   "display_name": "Python 3",
   "language": "python",
   "name": "python3"
  },
  "language_info": {
   "codemirror_mode": {
    "name": "ipython",
    "version": 3
   },
   "file_extension": ".py",
   "mimetype": "text/x-python",
   "name": "python",
   "nbconvert_exporter": "python",
   "pygments_lexer": "ipython3",
   "version": "3.8.8"
  }
 },
 "nbformat": 4,
 "nbformat_minor": 5
}
