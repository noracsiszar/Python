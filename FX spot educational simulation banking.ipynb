{
 "cells": [
  {
   "cell_type": "code",
   "execution_count": 1,
   "id": "d609cc89",
   "metadata": {},
   "outputs": [
    {
     "name": "stdout",
     "output_type": "stream",
     "text": [
      "Welcome to the FX spot market game!\n",
      "Enter your name: House Elf\n",
      "Hello, House Elf! In case of error, the computer will guide you through this simulation.\n",
      "Get ready!\n"
     ]
    }
   ],
   "source": [
    "print(\"Welcome to the FX spot market game!\")\n",
    "name = input(\"Enter your name: \")\n",
    "print(f\"Hello, {name}! In case of error, the computer will guide you through this simulation.\")\n",
    "print(\"Get ready!\")"
   ]
  },
  {
   "cell_type": "code",
   "execution_count": 2,
   "id": "7074d7ca",
   "metadata": {},
   "outputs": [
    {
     "name": "stdout",
     "output_type": "stream",
     "text": [
      "----------------------------------------------------------------------------\n",
      "Your bank has the current FX gaps reported by the Market risk unit in USD m:\n",
      "For simplicity, we will assume a 100% hedge ratio while creating the hedges.\n"
     ]
    }
   ],
   "source": [
    "print(\"----------------------------------------------------------------------------\")\n",
    "print(\"Your bank has the current FX gaps reported by the Market risk unit in USD m:\")\n",
    "print(\"For simplicity, we will assume a 100% hedge ratio while creating the hedges.\")"
   ]
  },
  {
   "cell_type": "code",
   "execution_count": 3,
   "id": "906b3914",
   "metadata": {},
   "outputs": [
    {
     "name": "stdout",
     "output_type": "stream",
     "text": [
      "   CCY  GAP in USD m\n",
      "0  EUR           -10\n",
      "1  GBP            15\n",
      "2  CHF            -9\n"
     ]
    }
   ],
   "source": [
    "import pandas as pd\n",
    "\n",
    "FXgaps = {\n",
    "    \"EUR\": -10,\n",
    "    \"GBP\": +15,\n",
    "    \"CHF\": -9\n",
    "}\n",
    "\n",
    "df_fxgaps = pd.DataFrame(list(FXgaps.items()), columns=['CCY', 'GAP in USD m'])\n",
    "print(df_fxgaps)"
   ]
  },
  {
   "cell_type": "code",
   "execution_count": 4,
   "id": "91dbb7a1",
   "metadata": {},
   "outputs": [
    {
     "name": "stdout",
     "output_type": "stream",
     "text": [
      "Here is the overview of the current market rates:\n",
      "-------------------------------------------------\n",
      "   CCYpair     bid     ask\n",
      "0  USD_EUR  0.9282  0.9286\n",
      "1  USD_GBP  0.7984  0.7987\n",
      "2  USD_CHF  0.9063  0.9067\n"
     ]
    }
   ],
   "source": [
    "CCYconv = {\n",
    "    \"USD_EUR\": [0.9282, 0.9286],\n",
    "    \"USD_GBP\": [0.7984, 0.7987],\n",
    "    \"USD_CHF\": [0.9063, 0.9067]\n",
    "}\n",
    "\n",
    "df_ccyconv = pd.DataFrame(list(CCYconv.items()), columns=['CCYpair', 'bid_ask'])\n",
    "df_ccyconv[['bid', 'ask']] = pd.DataFrame(df_ccyconv['bid_ask'].tolist(), index=df_ccyconv.index)\n",
    "df_ccyconv.drop(columns=['bid_ask'], inplace=True)\n",
    "print(\"Here is the overview of the current market rates:\")\n",
    "print(\"-------------------------------------------------\")\n",
    "print(df_ccyconv)"
   ]
  },
  {
   "cell_type": "code",
   "execution_count": 5,
   "id": "27b31047",
   "metadata": {},
   "outputs": [
    {
     "name": "stdout",
     "output_type": "stream",
     "text": [
      "----------------------------------------------------------------------------\n",
      "The market user buys USD at ask and sells USD at ask.\n",
      "To close the USD gap in EUR with -10mn USD, would you like to buy or sell USD?\n",
      "1) buy USD\n",
      "2) sell USD\n",
      "Enter 1 or 2: 1\n",
      "You will buy USD.\n",
      "The current market price is 1 USD = 0.9286 EUR.\n",
      "You buy 10m USD. This equals to 0.9286*10.000.000 = -9.286m EUR\n"
     ]
    }
   ],
   "source": [
    "while True:\n",
    "    print(\"----------------------------------------------------------------------------\")\n",
    "    print(\"The market user buys USD at ask and sells USD at ask.\")\n",
    "    print(\"To close the USD gap in EUR with -10mn USD, would you like to buy or sell USD?\")\n",
    "    print(\"1) buy USD\")\n",
    "    print(\"2) sell USD\")\n",
    "    buyorsell = input(\"Enter 1 or 2: \")\n",
    "\n",
    "    if buyorsell == '1':\n",
    "        print(\"You will buy USD.\")\n",
    "        print(\"The current market price is 1 USD = 0.9286 EUR.\")\n",
    "        print(\"You buy 10m USD. This equals to 0.9286*10.000.000 = -9.286m EUR\")\n",
    "        df_fxgaps.loc[df_fxgaps['CCY'] == 'EUR', 'Hedge Position'] = df_fxgaps.loc[df_fxgaps['CCY'] == 'EUR', 'GAP in USD m'] * -1\n",
    "        break  # Exit the loop after one round of transactions\n",
    "    else:\n",
    "        print(\"You chose to sell USD.\")\n",
    "        print(\"However, we are already short.\")\n",
    "        print(\"Therefore you need to buy USD.\")\n",
    "\n",
    "    print(df_fxgaps)\n",
    "\n",
    "    print(\"Wanna start again? Type 'y' for yes.\")\n",
    "    restart = input()\n",
    "    if restart.lower() != 'y':\n",
    "        print(\"Exiting...\")\n",
    "        break  # Exit the loop if the user chooses not to restart"
   ]
  },
  {
   "cell_type": "code",
   "execution_count": 6,
   "id": "a095be7f",
   "metadata": {},
   "outputs": [
    {
     "name": "stdout",
     "output_type": "stream",
     "text": [
      "----------------------------------------------------------------------------\n",
      "The market user buys USD at ask and sells USD at ask.\n",
      "To close the USD gap in GBP with +15mn USD, would you like to buy or sell USD?\n",
      "1) buy USD\n",
      "2) sell USD\n",
      "Enter 1 or 2: 2\n",
      "You will sell USD.\n",
      "The current market price is 1 USD = 0.9286 GBP.\n",
      "You sell 15m USD. This equals to 0.7984*15.000.000 = +11.976m GBP\n"
     ]
    }
   ],
   "source": [
    "while True:\n",
    "    print(\"----------------------------------------------------------------------------\")\n",
    "    print(\"The market user buys USD at ask and sells USD at ask.\")\n",
    "    print(\"To close the USD gap in GBP with +15mn USD, would you like to buy or sell USD?\")\n",
    "    print(\"1) buy USD\")\n",
    "    print(\"2) sell USD\")\n",
    "    buyorsell = input(\"Enter 1 or 2: \")\n",
    "\n",
    "    if buyorsell == '2':\n",
    "        print(\"You will sell USD.\")\n",
    "        print(\"The current market price is 1 USD = 0.9286 GBP.\")\n",
    "        print(\"You sell 15m USD. This equals to 0.7984*15.000.000 = +11.976m GBP\")\n",
    "        df_fxgaps.loc[df_fxgaps['CCY'] == 'GBP', 'Hedge Position'] = df_fxgaps.loc[df_fxgaps['CCY'] == 'GBP', 'GAP in USD m'] * -1\n",
    "        break  # Exit the loop after one round of transactions\n",
    "    else:\n",
    "        print(\"You chose to buy USD.\")\n",
    "        print(\"However, we are already long.\")\n",
    "        print(\"Therefore you need to sell USD.\")\n",
    "\n",
    "    print(df_fxgaps)\n",
    "\n",
    "    print(\"Wanna start again? Type 'y' for yes.\")\n",
    "    restart = input()\n",
    "    if restart.lower() != 'y':\n",
    "        print(\"Exiting...\")\n",
    "        break  # Exit the loop if the user chooses not to restart"
   ]
  },
  {
   "cell_type": "code",
   "execution_count": 7,
   "id": "213c8c00",
   "metadata": {},
   "outputs": [
    {
     "name": "stdout",
     "output_type": "stream",
     "text": [
      "----------------------------------------------------------------------------\n",
      "The market user buys USD at ask and sells USD at ask.\n",
      "To close the USD gap in CHF with -9mn USD, would you like to buy or sell USD?\n",
      "1) buy USD\n",
      "2) sell USD\n",
      "Enter 1 or 2: 2\n",
      "You chose to sell USD.\n",
      "However, we are already short.\n",
      "Therefore you need to buy USD.\n",
      "   CCY  GAP in USD m  Hedge Position\n",
      "0  EUR           -10            10.0\n",
      "1  GBP            15           -15.0\n",
      "2  CHF            -9             NaN\n",
      "Wanna start again? Type 'y' for yes.\n",
      "y\n",
      "----------------------------------------------------------------------------\n",
      "The market user buys USD at ask and sells USD at ask.\n",
      "To close the USD gap in CHF with -9mn USD, would you like to buy or sell USD?\n",
      "1) buy USD\n",
      "2) sell USD\n",
      "Enter 1 or 2: 2\n",
      "You chose to sell USD.\n",
      "However, we are already short.\n",
      "Therefore you need to buy USD.\n",
      "   CCY  GAP in USD m  Hedge Position\n",
      "0  EUR           -10            10.0\n",
      "1  GBP            15           -15.0\n",
      "2  CHF            -9             NaN\n",
      "Wanna start again? Type 'y' for yes.\n",
      "y\n",
      "----------------------------------------------------------------------------\n",
      "The market user buys USD at ask and sells USD at ask.\n",
      "To close the USD gap in CHF with -9mn USD, would you like to buy or sell USD?\n",
      "1) buy USD\n",
      "2) sell USD\n",
      "Enter 1 or 2: 2\n",
      "You chose to sell USD.\n",
      "However, we are already short.\n",
      "Therefore you need to buy USD.\n",
      "   CCY  GAP in USD m  Hedge Position\n",
      "0  EUR           -10            10.0\n",
      "1  GBP            15           -15.0\n",
      "2  CHF            -9             NaN\n",
      "Wanna start again? Type 'y' for yes.\n",
      "y\n",
      "----------------------------------------------------------------------------\n",
      "The market user buys USD at ask and sells USD at ask.\n",
      "To close the USD gap in CHF with -9mn USD, would you like to buy or sell USD?\n",
      "1) buy USD\n",
      "2) sell USD\n",
      "Enter 1 or 2: 1\n",
      "You will buy USD.\n",
      "The current market price is 1 USD = 0.9067 CHF.\n",
      "You buy 9m USD. This equals to 0.9067*9.000.000 = -8.16m CHF\n"
     ]
    }
   ],
   "source": [
    "while True:\n",
    "    print(\"----------------------------------------------------------------------------\")\n",
    "    print(\"The market user buys USD at ask and sells USD at ask.\")\n",
    "    print(\"To close the USD gap in CHF with -9mn USD, would you like to buy or sell USD?\")\n",
    "    print(\"1) buy USD\")\n",
    "    print(\"2) sell USD\")\n",
    "    buyorsell = input(\"Enter 1 or 2: \")\n",
    "\n",
    "    if buyorsell == '1':\n",
    "        print(\"You will buy USD.\")\n",
    "        print(\"The current market price is 1 USD = 0.9067 CHF.\")\n",
    "        print(\"You buy 9m USD. This equals to 0.9067*9.000.000 = -8.16m CHF\")\n",
    "        df_fxgaps.loc[df_fxgaps['CCY'] == 'CHF', 'Hedge Position'] = df_fxgaps.loc[df_fxgaps['CCY'] == 'CHF', 'GAP in USD m'] * -1\n",
    "        break  # Exit the loop after one round of transactions\n",
    "    else:\n",
    "        print(\"You chose to sell USD.\")\n",
    "        print(\"However, we are already short.\")\n",
    "        print(\"Therefore you need to buy USD.\")\n",
    "\n",
    "    print(df_fxgaps)\n",
    "\n",
    "    print(\"Wanna start again? Type 'y' for yes.\")\n",
    "    restart = input()\n",
    "    if restart.lower() != 'y':\n",
    "        print(\"Exiting...\")\n",
    "        break  # Exit the loop if the user chooses not to restart"
   ]
  },
  {
   "cell_type": "code",
   "execution_count": 8,
   "id": "b8cb6277",
   "metadata": {},
   "outputs": [
    {
     "name": "stdout",
     "output_type": "stream",
     "text": [
      "   CCY  GAP in USD m  Hedge Position  Net Position\n",
      "0  EUR           -10            10.0           0.0\n",
      "1  GBP            15           -15.0           0.0\n",
      "2  CHF            -9             9.0           0.0\n"
     ]
    }
   ],
   "source": [
    "#update table with net position\n",
    "df_fxgaps['Net Position'] = df_fxgaps['GAP in USD m'] + df_fxgaps['Hedge Position']\n",
    "print(df_fxgaps)"
   ]
  },
  {
   "cell_type": "code",
   "execution_count": 9,
   "id": "ac20106c",
   "metadata": {},
   "outputs": [
    {
     "name": "stdout",
     "output_type": "stream",
     "text": [
      "You successfully closed all the FX Gaps.\n",
      "Let's see what is the PnL of the position at the end of the day depending on the market closing.\n",
      "   CCYpair     bid     ask\n",
      "0  USD_EUR  0.9284  0.9289\n",
      "1  USD_GBP  0.7987  0.7990\n",
      "2  USD_CHF  0.9061  0.9068\n",
      "   CCY  GAP in USD m  Hedge Position  Net Position  executed_rates\n",
      "0  EUR           -10            10.0           0.0          0.9286\n",
      "1  GBP            15           -15.0           0.0          0.7984\n",
      "2  CHF            -9             9.0           0.0          0.9063\n"
     ]
    }
   ],
   "source": [
    "FXrates = {\n",
    "    \"USD_EUR\": [0.9284, 0.9289],\n",
    "    \"USD_GBP\": [0.7987, 0.7990],\n",
    "    \"USD_CHF\": [0.9061, 0.9068]\n",
    "}\n",
    "df_fx_rates_eod = pd.DataFrame(list(FXrates.items()), columns=['CCYpair', 'bid_ask'])\n",
    "df_fx_rates_eod[['bid', 'ask']] = pd.DataFrame(df_fx_rates_eod['bid_ask'].tolist(), index=df_fx_rates_eod.index)\n",
    "df_fx_rates_eod.drop(columns=['bid_ask'], inplace=True)\n",
    "\n",
    "if sum(df_fxgaps['Net Position']) == 0:\n",
    "    print(\"You successfully closed all the FX Gaps.\")\n",
    "    print(\"Let's see what is the PnL of the position at the end of the day depending on the market closing.\")\n",
    "    print(df_fx_rates_eod)\n",
    "    \n",
    "    # Creating DataFrame\n",
    "    execution_rates_data = {\n",
    "        \"CCY\": [\"EUR\", \"GBP\", \"CHF\"],\n",
    "        \"execution_rate\": [0.9286, 0.7984, 0.9063]  # Assuming the execution rates\n",
    "    }\n",
    "    df_execution_rates = pd.DataFrame(execution_rates_data)\n",
    "\n",
    "    # Ensure proper mapping of execution rates to currencies\n",
    "    df_fxgaps['executed_rates'] = df_execution_rates.set_index('CCY')['execution_rate'][df_fxgaps['CCY']].values\n",
    "\n",
    "print(df_fxgaps)"
   ]
  },
  {
   "cell_type": "code",
   "execution_count": 10,
   "id": "5a81d502",
   "metadata": {},
   "outputs": [
    {
     "name": "stdout",
     "output_type": "stream",
     "text": [
      "End of Day Rates:\n",
      "   CCYpair     bid     ask\n",
      "0  USD_EUR  0.9284  0.9289\n",
      "1  USD_GBP  0.7987  0.7990\n",
      "2  USD_CHF  0.9061  0.9068\n",
      "\n",
      "\n",
      "Profit and Loss (PnL):\n",
      "   CCY  Hedge Position  diff_eod_price_minus_price_fixed  \\\n",
      "0  EUR            10.0                            0.0003   \n",
      "1  GBP           -15.0                            0.0003   \n",
      "2  CHF             9.0                            0.0005   \n",
      "\n",
      "   PnL Hedge Position eod  \n",
      "0                  0.0030  \n",
      "1                 -0.0045  \n",
      "2                  0.0045  \n"
     ]
    }
   ],
   "source": [
    "# Calculate the difference between end-of-day rate and execution rate\n",
    "df_fxgaps['diff_eod_price_minus_price_fixed'] = 0  # Initialize the column\n",
    "\n",
    "# For EUR and CHF\n",
    "eur_chf_mask = df_fxgaps['CCY'].isin(['EUR', 'CHF'])\n",
    "df_fxgaps.loc[eur_chf_mask, 'diff_eod_price_minus_price_fixed'] = df_fx_rates_eod.loc[eur_chf_mask, 'ask'] - df_fxgaps.loc[eur_chf_mask, 'executed_rates']\n",
    "\n",
    "# For GBP\n",
    "gbp_mask = df_fxgaps['CCY'] == 'GBP'\n",
    "df_fxgaps.loc[gbp_mask, 'diff_eod_price_minus_price_fixed'] = df_fx_rates_eod.loc[gbp_mask, 'bid'] - df_fxgaps.loc[gbp_mask, 'executed_rates']\n",
    "\n",
    "# Calculate PnL based on the difference and net position\n",
    "df_fxgaps['PnL Hedge Position eod'] = df_fxgaps['diff_eod_price_minus_price_fixed'] * df_fxgaps['Hedge Position']\n",
    "\n",
    "# Print the DataFrame showing the end-of-day rates and PnL\n",
    "print(\"End of Day Rates:\")\n",
    "print(df_fx_rates_eod)\n",
    "print(\"\\n\")\n",
    "print(\"Profit and Loss (PnL):\")\n",
    "print(df_fxgaps[['CCY', 'Hedge Position', 'diff_eod_price_minus_price_fixed', 'PnL Hedge Position eod']])"
   ]
  },
  {
   "cell_type": "code",
   "execution_count": null,
   "id": "9c5204a9",
   "metadata": {},
   "outputs": [],
   "source": []
  }
 ],
 "metadata": {
  "kernelspec": {
   "display_name": "Python 3",
   "language": "python",
   "name": "python3"
  },
  "language_info": {
   "codemirror_mode": {
    "name": "ipython",
    "version": 3
   },
   "file_extension": ".py",
   "mimetype": "text/x-python",
   "name": "python",
   "nbconvert_exporter": "python",
   "pygments_lexer": "ipython3",
   "version": "3.8.8"
  }
 },
 "nbformat": 4,
 "nbformat_minor": 5
}
